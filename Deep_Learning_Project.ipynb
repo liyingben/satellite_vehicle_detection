{
  "nbformat": 4,
  "nbformat_minor": 0,
  "metadata": {
    "colab": {
      "name": "Deep Learning Project.ipynb",
      "version": "0.3.2",
      "provenance": [],
      "include_colab_link": true
    },
    "kernelspec": {
      "name": "python3",
      "display_name": "Python 3"
    },
    "accelerator": "GPU"
  },
  "cells": [
    {
      "cell_type": "markdown",
      "metadata": {
        "id": "view-in-github",
        "colab_type": "text"
      },
      "source": [
        "[View in Colaboratory](https://colab.research.google.com/github/mihirbhatia999/satellite_vehicle_detection/blob/master/Deep_Learning_Project.ipynb)"
      ]
    },
    {
      "metadata": {
        "id": "zrcvwHR6cx8t",
        "colab_type": "text"
      },
      "cell_type": "markdown",
      "source": [
        "# Vehicle Detection from Satellite Images \n",
        "\n"
      ]
    },
    {
      "metadata": {
        "id": "AcqzmHu9eRkZ",
        "colab_type": "text"
      },
      "cell_type": "markdown",
      "source": [
        "## Installation of Torch and importing necessary packages to get started \n"
      ]
    },
    {
      "metadata": {
        "id": "WDFyMhTKv8kx",
        "colab_type": "code",
        "colab": {}
      },
      "cell_type": "code",
      "source": [
        "import numpy as np \n",
        "\n",
        "!pip3 install http://download.pytorch.org/whl/cu80/torch-0.3.0.post4-cp36-cp36m-linux_x86_64.whl "
      ],
      "execution_count": 0,
      "outputs": []
    },
    {
      "metadata": {
        "id": "W-VVgsgZY8RM",
        "colab_type": "code",
        "colab": {}
      },
      "cell_type": "code",
      "source": [
        "!pip3 install torchvision"
      ],
      "execution_count": 0,
      "outputs": []
    },
    {
      "metadata": {
        "id": "7zTeltL0ZAZz",
        "colab_type": "code",
        "colab": {}
      },
      "cell_type": "code",
      "source": [
        "import torch "
      ],
      "execution_count": 0,
      "outputs": []
    },
    {
      "metadata": {
        "id": "usiPF5UQc8d9",
        "colab_type": "text"
      },
      "cell_type": "markdown",
      "source": [
        "## Notes and References \n",
        "\n",
        "1. Our project is mostly going to be based on implementing the Hybrid Neural Network proposed in [this paper](https://ieeexplore.ieee.org/stamp/stamp.jsp?tp=&arnumber=6778050&tag=1) \n",
        "2. The paper proposes that Histogram of Gradients has been a good proposed method for object detection when paired up with linear support vector machines (SVM) and other classifiers (like Adaboost) have been proposed. More on HOGs [here](https://www.learnopencv.com/histogram-of-oriented-gradients/) "
      ]
    },
    {
      "metadata": {
        "id": "RfgCNlqcd8P8",
        "colab_type": "code",
        "colab": {}
      },
      "cell_type": "code",
      "source": [
        ""
      ],
      "execution_count": 0,
      "outputs": []
    }
  ]
}